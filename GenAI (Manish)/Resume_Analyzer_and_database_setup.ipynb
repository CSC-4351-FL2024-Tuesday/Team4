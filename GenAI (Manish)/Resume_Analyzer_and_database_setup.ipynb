{
 "cells": [
  {
   "cell_type": "code",
   "execution_count": 1,
   "metadata": {},
   "outputs": [],
   "source": [
    "import firebase_admin\n",
    "from firebase_admin import credentials,db\n",
    "from firebase_admin import storage"
   ]
  },
  {
   "cell_type": "code",
   "execution_count": null,
   "metadata": {},
   "outputs": [],
   "source": [
    "cred = credentials.Certificate(\"creds.json\")\n",
    "with open(\"db_url.txt\", \"r\") as f:\n",
    "    DB_URL = f.read()\n",
    "firebase_admin.initialize_app(cred, {\"databaseURL\": DB_URL})"
   ]
  },
  {
   "cell_type": "code",
   "execution_count": 5,
   "metadata": {},
   "outputs": [
    {
     "data": {
      "text/plain": [
       "{'Student1': {'College': 'Georgia State University',\n",
       "  'Degree': 'Bachelors of Science',\n",
       "  'Emails': ['john.doe@vikes.csuohio.edu'],\n",
       "  'Interested_roles': ['Data Science',\n",
       "   'Data Analyst',\n",
       "   'Business Analyst',\n",
       "   'Internship',\n",
       "   'Software Developer Intern',\n",
       "   'IT'],\n",
       "  'Location': 'Atlanta',\n",
       "  'Major': 'Computer Science',\n",
       "  'Minor': 'Data Science',\n",
       "  'Name': 'John Doe',\n",
       "  'Organizations': 'ACM - Associates of Computing Machinery (Board Member - Publicity Chair) ISO - Indian Student Organization (Member) Badminton Club (Member)',\n",
       "  'Total_experience': 7.5}}"
      ]
     },
     "execution_count": 5,
     "metadata": {},
     "output_type": "execute_result"
    }
   ],
   "source": [
    "ref= db.reference(\"/\")\n",
    "ref.get()"
   ]
  },
  {
   "cell_type": "code",
   "execution_count": 6,
   "metadata": {},
   "outputs": [],
   "source": [
    "import re\n",
    "from pdfminer.high_level import extract_pages, extract_text_to_fp, extract_text"
   ]
  },
  {
   "cell_type": "code",
   "execution_count": 11,
   "metadata": {},
   "outputs": [],
   "source": [
    "text=extract_text('Manish_Kolla_Resume_Fall23 - Copy.pdf')\n",
    "description= extract_text('RELX Jobs.pdf')\n",
    "# new_text=text.replace('\\n','')\n",
    "# description=description.replace('\\n','')"
   ]
  },
  {
   "cell_type": "code",
   "execution_count": 8,
   "metadata": {},
   "outputs": [
    {
     "name": "stdout",
     "output_type": "stream",
     "text": [
      "Emails: ['maneeshkolla2003@gmail.com']\n",
      "URLs: ['https://github.com/manishkolla', 'https://www.linkedin.com/in/manishkolla/']\n"
     ]
    }
   ],
   "source": [
    "def email_links(text):\n",
    "    global emails\n",
    "    email_pattern = r\"[\\w\\.-]+@[\\w\\.-]+\\.\\w+\"  # Improved for broader email matching\n",
    "    url_pattern =  r'(http|ftp|https):\\/\\/([\\w_-]+(?:(?:\\.[\\w_-]+)+))([\\w.,@?^=%&:\\/~+#-]*[\\w@?^=%&\\/~+#-])'\n",
    "\n",
    "    # Find all matches of the patterns in the text\n",
    "    emails = re.findall(email_pattern, text)\n",
    "    emails=list(set(emails))\n",
    "    urls = re.findall(url_pattern, text)\n",
    "    combined_urls = []\n",
    "    for protocol, domain, path in urls:\n",
    "        combined_urls.append(f\"{protocol}://{domain}{path}\")\n",
    "    combined_urls=list(set(combined_urls))\n",
    "    # Print the extracted emails and URLs\n",
    "    print(\"Emails:\", emails)\n",
    "    print(\"URLs:\", combined_urls)\n",
    "email_links(text)"
   ]
  },
  {
   "cell_type": "code",
   "execution_count": null,
   "metadata": {},
   "outputs": [],
   "source": [
    "# db.reference(\"/Student2\").update({\"Name\": \"John Doe\"})\n",
    "# db.reference(\"/Student2\").update({\"Emails\": emails})\n",
    "# db.reference(\"/Student2\").update({\"Total_experience\": 7.5})\n",
    "# db.reference(\"/Student2\").update({\"skills\": 7.5})\n",
    "# db.reference(\"/Student2\").update({\"College\": 'Georgia State University'})\n",
    "# db.reference(\"/Student2\").update({\"Interested_roles\": ['Data Science', 'Data Analyst', 'Business Analyst', 'Internship', 'Software Developer Intern', 'IT']})\n",
    "# db.reference(\"/Student2\").update({\"Degree\": 'Bachelors of Science'})\n",
    "# db.reference(\"/Student2\").update({\"Major\": 'Computer Science'})\n",
    "# ref.get()"
   ]
  },
  {
   "cell_type": "code",
   "execution_count": 10,
   "metadata": {},
   "outputs": [],
   "source": [
    "# for x in range(3,11):\n",
    "#     db.reference(f\"/Student{x}\").update({\"Name\": \"John Doe\"})\n",
    "#     db.reference(f\"/Student{x}\").update({\"Emails\": emails})\n",
    "#     db.reference(f\"/Student{x}\").update({\"Total_experience\": 7.5})\n",
    "#     db.reference(f\"/Student{x}\").update({\"skills\": 7.5})\n",
    "#     db.reference(f\"/Student{x}\").update({\"College\": 'Georgia State University'})\n",
    "#     db.reference(f\"/Student{x}\").update({\"Interested_roles\": ['Data Science', 'Data Analyst', 'Business Analyst', 'Internship', 'Software Developer Intern', 'IT']})\n",
    "#     db.reference(f\"/Student{x}\").update({\"Degree\": 'Bachelors of Science'})\n",
    "#     db.reference(f\"/Student{x}\").update({\"Major\": 'Computer Science'})\n",
    "#     ref.get()"
   ]
  },
  {
   "cell_type": "code",
   "execution_count": 8,
   "metadata": {},
   "outputs": [],
   "source": [
    "import pathlib\n",
    "import textwrap\n",
    "\n",
    "import google.generativeai as genai\n",
    "\n",
    "from IPython.display import display\n",
    "from IPython.display import Markdown\n",
    "import google.generativeai as genai\n",
    "\n",
    "\n",
    "def to_markdown(text):\n",
    "  text = text.replace('•', '  *')\n",
    "  return Markdown(textwrap.indent(text, '> ', predicate=lambda _: True))"
   ]
  },
  {
   "cell_type": "code",
   "execution_count": 9,
   "metadata": {},
   "outputs": [],
   "source": [
    "# Or use `os.getenv('GOOGLE_API_KEY')` to fetch an environment variable.\n",
    "with open(\"Google_AI_API.txt\", \"r\") as f:\n",
    "    GOOGLE_API_KEY = f.read()\n",
    "\n",
    "genai.configure(api_key=GOOGLE_API_KEY)"
   ]
  },
  {
   "cell_type": "code",
   "execution_count": 10,
   "metadata": {},
   "outputs": [],
   "source": [
    "model = genai.GenerativeModel('gemini-pro')\n",
    "#to_markdown(response.text)"
   ]
  },
  {
   "cell_type": "code",
   "execution_count": 12,
   "metadata": {},
   "outputs": [
    {
     "name": "stdout",
     "output_type": "stream",
     "text": [
      "<IPython.core.display.Markdown object>\n"
     ]
    }
   ],
   "source": [
    "# Start a chat session\n",
    "chat = model.start_chat()\n",
    "\n",
    "# Get the file name from the user\n",
    "\n",
    "# Read the contents of the file\n",
    "# with open('/content/Patel_Nishchay.txt', \"r\", encoding='latin-1') as f:\n",
    "#     file_content = f.read()\n",
    "\n",
    "# Send the file content as the initial prompt to the chat model\n",
    "chat.send_message(text)\n",
    "response = chat.send_message(\"Hello, I will ask you some question, and answer them in short from the previously given text\")\n",
    "print(to_markdown(response.text))"
   ]
  },
  {
   "cell_type": "markdown",
   "metadata": {},
   "source": [
    "1. Give the answer in bullet points and one word: Give candidates information such as: Name, Email, LinkedIn, Github, and Location.\n",
    "2. Give the answer in bullet points and one word: Give candidates information such as: University, GPA, Major and Minor.\n",
    "3. Give the answer in bullet points: Give candidates information such as: Coding Languages, Software Libraries, Software Concept, Software Framework.\n",
    "4. Give the answer in bullet points and one word: Candidate's Work Places.\n",
    "5. Give the answer in bullet points and name of: Give candidates information such as: Projects names and their links.\n",
    "6. Give the answer in bullet points and name of: Give candidates information such as: Extracurricular Activities"
   ]
  },
  {
   "cell_type": "code",
   "execution_count": 13,
   "metadata": {},
   "outputs": [
    {
     "data": {
      "text/markdown": [
       "> **Candidate Information**\n",
       "> \n",
       "> * **Name:** Manish Kolla\n",
       "> * **Email:** maneeshkolla2003@gmail.com\n",
       "> * **LinkedIn:** https://www.linkedin.com/in/manishkolla/\n",
       "> * **GitHub:** https://github.com/manishkolla\n",
       "> * **Location:** Atlanta, Georgia"
      ],
      "text/plain": [
       "<IPython.core.display.Markdown object>"
      ]
     },
     "execution_count": 13,
     "metadata": {},
     "output_type": "execute_result"
    }
   ],
   "source": [
    "response = chat.send_message(\"Give the answer in bullet points and one word: Give candidates information such as: Name, Email, LinkedIn, Github, and Location. \")\n",
    "to_markdown(response.text)"
   ]
  },
  {
   "cell_type": "code",
   "execution_count": 19,
   "metadata": {},
   "outputs": [
    {
     "name": "stdout",
     "output_type": "stream",
     "text": [
      "Manish Kolla\n"
     ]
    }
   ],
   "source": [
    "response = chat.send_message(\"Give the answer in one word without bullets or *: What is candidates Full Name\")\n",
    "name= response.text.replace('*', '')\n",
    "print(name)"
   ]
  },
  {
   "cell_type": "code",
   "execution_count": 20,
   "metadata": {},
   "outputs": [
    {
     "name": "stdout",
     "output_type": "stream",
     "text": [
      "maneeshkolla2003@gmail.com\n"
     ]
    }
   ],
   "source": [
    "response = chat.send_message(\"Give the answer in one word without bullets or *: What is candidates email address\")\n",
    "email= response.text.replace('*', '')\n",
    "print(email)"
   ]
  },
  {
   "cell_type": "code",
   "execution_count": 21,
   "metadata": {},
   "outputs": [
    {
     "name": "stdout",
     "output_type": "stream",
     "text": [
      "Georgia State University\n"
     ]
    }
   ],
   "source": [
    "response = chat.send_message(\"Give the answer in one word without bullets or *: Which college does the candidate go to?\")\n",
    "college= response.text.replace('*', '')\n",
    "print(college)"
   ]
  },
  {
   "cell_type": "code",
   "execution_count": 62,
   "metadata": {},
   "outputs": [
    {
     "name": "stdout",
     "output_type": "stream",
     "text": [
      "Computer Science\n"
     ]
    }
   ],
   "source": [
    "response = chat.send_message(\"Give the answer in one word without bullets or *: Which is the candidate major?\")\n",
    "major= response.text.replace('*', '')\n",
    "print(major)"
   ]
  },
  {
   "cell_type": "code",
   "execution_count": 23,
   "metadata": {},
   "outputs": [
    {
     "name": "stdout",
     "output_type": "stream",
     "text": [
      "Bachelors\n"
     ]
    }
   ],
   "source": [
    "response = chat.send_message(\"Give the answer in one word without bullets or *: Which is the candidate degree like Bachelors of Science/ Masters of Arts?\")\n",
    "degree= response.text.replace('*', '')\n",
    "print(degree)"
   ]
  },
  {
   "cell_type": "code",
   "execution_count": 25,
   "metadata": {},
   "outputs": [
    {
     "name": "stdout",
     "output_type": "stream",
     "text": [
      "2\n"
     ]
    }
   ],
   "source": [
    "response = chat.send_message(\"Give the answer in one word without bullets or *: Which is the candidates total work experience?\")\n",
    "total_experience= response.text.replace('*', '')\n",
    "print(total_experience)"
   ]
  },
  {
   "cell_type": "markdown",
   "metadata": {},
   "source": []
  },
  {
   "cell_type": "code",
   "execution_count": 28,
   "metadata": {},
   "outputs": [
    {
     "name": "stdout",
     "output_type": "stream",
     "text": [
      "Coding Languages: Python, R, C, HTML, CSS, JavaScript\n",
      "Software Libraries: Anaconda, Beautiful Soup, Selenium, Machine Learning, Data Mining, Natural Language Processing (NLP), Data Visualization, Dashboards, Data Preprocessing, MySQL, MariaDB\n",
      "Software Concept: Agile Project Management, Scrum Management, Risk Management, Waterfall Project Management\n",
      "Software Framework: Asana, Jira\n",
      "Soft Skills: Communication, Teamwork, Problem-Solving, Critical Thinking, Time Management\n"
     ]
    }
   ],
   "source": [
    "response = chat.send_message(\"Give the answer in list of words without bullets or *:What is candidates information such as: Coding Languages, Software Libraries, Software Concept, Software Framework, Soft Skills.?\")\n",
    "skills= response.text.replace('*', '')\n",
    "print(skills)"
   ]
  },
  {
   "cell_type": "code",
   "execution_count": 47,
   "metadata": {},
   "outputs": [
    {
     "name": "stdout",
     "output_type": "stream",
     "text": [
      "Work Places:\n",
      "\n",
      "Georgia State University, Lavner Education\n"
     ]
    }
   ],
   "source": [
    "response = chat.send_message(\"Give the answer without bullets or *:Candidate's Work Places.\")\n",
    "workplaces= response.text.replace('*', '')\n",
    "print(workplaces)"
   ]
  },
  {
   "cell_type": "code",
   "execution_count": 42,
   "metadata": {},
   "outputs": [
    {
     "name": "stdout",
     "output_type": "stream",
     "text": [
      "Top 5 Ideal Roles in Order of Highest to Lowest:\n",
      "\n",
      "1. Data Scientist\n",
      "2. Machine Learning Engineer\n",
      "3. Software Engineer\n",
      "4. Data Analyst\n",
      "5. Business Analyst\n"
     ]
    }
   ],
   "source": [
    "response = chat.send_message(\"Give the answer in list of words without bullets or *:What are top 5 ideal roles for that candidate based on the skills and experinece in order of highest to lowest?\")\n",
    "idealroles= response.text.replace('*', '')\n",
    "print(idealroles)"
   ]
  },
  {
   "cell_type": "code",
   "execution_count": 51,
   "metadata": {},
   "outputs": [
    {
     "name": "stdout",
     "output_type": "stream",
     "text": [
      "Projects:\n",
      "\n",
      " Gold Price Prediction\n",
      " Airline Data Analysis\n",
      " SPUDOS (Hack GSU'22 and GSU Demo Day)\n"
     ]
    }
   ],
   "source": [
    "#Give the answer in bullet points and name of: Give candidates information such as: Projects names and their links.\n",
    "response = chat.send_message(\"Give the answer in list of words without bullets or *:Give the answer in bullet points and name of: Projects names and their URL attached of the candiadate?\")\n",
    "projects= response.text.replace('*', '')\n",
    "print(projects)"
   ]
  },
  {
   "cell_type": "code",
   "execution_count": null,
   "metadata": {},
   "outputs": [],
   "source": [
    "#Give the answer in bullet points and name of: Give candidates information such as: Projects names and their links.\n",
    "response = chat.send_message(\"Give the answer in list of words without bullets or *:Give the answer in bullet points and name of: Projects names and their URL attached of the candiadate?\")\n",
    "projects= response.text.replace('*', '')\n",
    "print(projects)"
   ]
  },
  {
   "cell_type": "code",
   "execution_count": 53,
   "metadata": {},
   "outputs": [
    {
     "name": "stdout",
     "output_type": "stream",
     "text": [
      "Highly skilled Computer Science graduate with a passion for data science and machine learning. Seeking a challenging role to apply my expertise in data mining, predictive analytics, and AI to solve real-world problems.\n"
     ]
    }
   ],
   "source": [
    "response = chat.send_message(\"Based on my resume,Can you generate a brief summary which serves as heading and eye catching in less than 50 words\")\n",
    "summary= response.text.replace('*', '')\n",
    "print(summary)"
   ]
  },
  {
   "cell_type": "code",
   "execution_count": 60,
   "metadata": {},
   "outputs": [
    {
     "name": "stdout",
     "output_type": "stream",
     "text": [
      "Manish Kolla\n",
      "B.S. in Computer Science, Georgia State University\n",
      "maneeshkolla2003@gmail.com\n",
      "+1 (470)-647-9715\n",
      "\n",
      "Summary:\n",
      "\n",
      "Recent graduate with a Bachelor of Science in Computer Science from Georgia State University. Possesses strong skills in data mining, machine learning, and artificial intelligence. Seeking a challenging role as a Data Scientist or Machine Learning Engineer to leverage these skills and contribute to the organization's success.\n",
      "\n",
      "Work Experience:\n",
      "\n",
      " Undergraduate Research Analyst/Junior Data Scientist, Evidence-Based Cybersecurity Research Group, Georgia State University\n",
      " STEM Tutor, Department of Mathematics and Statistics, Georgia State University\n",
      " Information Technology Intern, Lavner Education\n",
      "\n",
      "Technical Skills:\n",
      "\n",
      " Data Mining\n",
      " Machine Learning\n",
      " Artificial Intelligence\n",
      " Python\n",
      " R\n",
      " SQL\n",
      " AWS\n",
      " Azure\n",
      "\n",
      "Best Fit Roles:\n",
      "\n",
      " Data Scientist\n",
      " Machine Learning Engineer\n",
      " Software Engineer\n",
      " Data Analyst\n",
      " Business Analyst\n"
     ]
    }
   ],
   "source": [
    "response = chat.send_message(\"Based on my resume,Can you generate a brief summary which includes candidate name, BS/MS/Phd degree, college, email, phone number, summary of work experince, best fit roles?\")\n",
    "summary= response.text.replace('*', '')\n",
    "print(summary)\n",
    "# summary= to_markdown(response.text)\n",
    "#print(summary)"
   ]
  },
  {
   "cell_type": "code",
   "execution_count": null,
   "metadata": {},
   "outputs": [],
   "source": [
    "# name=name\n",
    "# emails=''\n",
    "# total_experience=''\n",
    "# skills=[]\n",
    "# college=''\n",
    "# interested_roles=[]\n",
    "# degree=''\n",
    "# major=''"
   ]
  },
  {
   "cell_type": "code",
   "execution_count": null,
   "metadata": {},
   "outputs": [],
   "source": [
    "'''\n",
    "name=''\n",
    "emails=''\n",
    "total_experience=''\n",
    "skills=[]\n",
    "college=''\n",
    "interested_roles=[]\n",
    "degree=''\n",
    "major=''\n",
    "'''"
   ]
  },
  {
   "cell_type": "code",
   "execution_count": 66,
   "metadata": {},
   "outputs": [
    {
     "data": {
      "text/plain": [
       "<firebase_admin.db.Reference at 0x1df5848c760>"
      ]
     },
     "execution_count": 66,
     "metadata": {},
     "output_type": "execute_result"
    }
   ],
   "source": [
    "ref = db.reference(f'/{name}')\n",
    "data={'Name': name,\n",
    "      'Emails': email,\n",
    "      'Total_experience':total_experience,\n",
    "      'skills': skills,\n",
    "      'College': college,\n",
    "      'Interested_roles': idealroles,\n",
    "      'Degree': degree,\n",
    "      'Major': major,\n",
    "      'workplaces': workplaces,\n",
    "      'Summary': summary}\n",
    "ref.push(data)"
   ]
  }
 ],
 "metadata": {
  "kernelspec": {
   "display_name": "Python 3",
   "language": "python",
   "name": "python3"
  },
  "language_info": {
   "codemirror_mode": {
    "name": "ipython",
    "version": 3
   },
   "file_extension": ".py",
   "mimetype": "text/x-python",
   "name": "python",
   "nbconvert_exporter": "python",
   "pygments_lexer": "ipython3",
   "version": "3.10.11"
  }
 },
 "nbformat": 4,
 "nbformat_minor": 2
}
